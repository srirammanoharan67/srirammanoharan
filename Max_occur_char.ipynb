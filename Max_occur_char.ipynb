{
 "cells": [
  {
   "cell_type": "markdown",
   "id": "d9325f31-c925-4ff1-b40b-5c324666531d",
   "metadata": {},
   "source": [
    "# Return maximum occurring character in the input string"
   ]
  },
  {
   "cell_type": "code",
   "execution_count": 1,
   "id": "6b8866db-24d6-4b40-b40d-77d52279ea4a",
   "metadata": {},
   "outputs": [
    {
     "name": "stdout",
     "output_type": "stream",
     "text": [
      "a\n"
     ]
    }
   ],
   "source": [
    "# 1. Using collections.Counter\n",
    "\n",
    "from collections import Counter\n",
    "\n",
    "def max_occur_char(s):\n",
    "    freq = Counter(s)\n",
    "    return max(freq, key=freq.get)\n",
    "\n",
    "print(max_occur_char(\"banana\"))  # Output: 'a'"
   ]
  },
  {
   "cell_type": "code",
   "execution_count": 1,
   "id": "57cd0c83-f5da-460e-bb68-f5443567f86c",
   "metadata": {},
   "outputs": [
    {
     "name": "stdout",
     "output_type": "stream",
     "text": [
      "a\n"
     ]
    }
   ],
   "source": [
    "# 2. Using Dictionary (Manual Count)\n",
    "\n",
    "def max_occur_char(s):\n",
    "    freq = {}\n",
    "    for ch in s:\n",
    "        freq[ch] = freq.get(ch, 0) + 1\n",
    "    max_char = max(freq, key=freq.get)\n",
    "    return max_char\n",
    "\n",
    "print(max_occur_char(\"banana\"))  # Output: 'a'\n",
    "\n",
    "\n",
    "# Other Method\n",
    "def max_occur_char(s):\n",
    "    freq = {}\n",
    "    for ch in s:\n",
    "        freq[ch] = freq.get(ch, 0) + 1\n",
    "\n",
    "    max_char = None\n",
    "    max_count = -1\n",
    "    for ch in freq:\n",
    "        if freq[ch] > max_count:\n",
    "            max_count = freq[ch]\n",
    "            max_char = ch\n",
    "    return max_char\n"
   ]
  },
  {
   "cell_type": "markdown",
   "id": "af6df1e7-6900-403e-95d7-720ce2e98252",
   "metadata": {},
   "source": [
    "🔍 What happens if we used max_count = 0 instead of max_count = -1?\n",
    "It would still work, because frequencies start from 1.\n",
    "\n",
    "But using -1 is a safe default:\n",
    "\n",
    "Ensures it works even if you ever modify the code to support edge cases like empty strings.\n",
    "\n"
   ]
  },
  {
   "cell_type": "code",
   "execution_count": 3,
   "id": "4efb6bcd-77b1-488c-89a0-f87d0cb928f0",
   "metadata": {},
   "outputs": [
    {
     "name": "stdout",
     "output_type": "stream",
     "text": [
      "a\n"
     ]
    }
   ],
   "source": [
    "# 3. Using defaultdict\n",
    "\n",
    "from collections import defaultdict\n",
    "\n",
    "def max_occur_char(s):\n",
    "    freq = defaultdict(int)\n",
    "    for ch in s:\n",
    "        freq[ch] += 1\n",
    "    return max(freq, key=freq.get)\n",
    "\n",
    "print(max_occur_char(\"banana\"))  # Output: 'a'"
   ]
  },
  {
   "cell_type": "code",
   "execution_count": 4,
   "id": "be2696cc-f5fa-43de-b21f-b30117dda2e2",
   "metadata": {},
   "outputs": [
    {
     "name": "stdout",
     "output_type": "stream",
     "text": [
      "a\n"
     ]
    }
   ],
   "source": [
    "# 4. Using set() + count() (Less Efficient)\n",
    "\n",
    "def max_occur_char(s):\n",
    "    return max(set(s), key=s.count)\n",
    "\n",
    "print(max_occur_char(\"banana\"))  # Output: 'a'"
   ]
  },
  {
   "cell_type": "code",
   "execution_count": 5,
   "id": "b1610a4d-ff60-4ba2-8690-730e8a1ae602",
   "metadata": {},
   "outputs": [
    {
     "name": "stdout",
     "output_type": "stream",
     "text": [
      "['a', 'b', 'c']\n"
     ]
    }
   ],
   "source": [
    "# 5. Handling Tie (Return All Max Characters)\n",
    "\n",
    "from collections import Counter\n",
    "\n",
    "def max_occur_chars(s):\n",
    "    freq = Counter(s)\n",
    "    max_freq = max(freq.values())\n",
    "    return [char for char in freq if freq[char] == max_freq]\n",
    "\n",
    "print(max_occur_chars(\"aabbcc\"))  # Output: ['a', 'b', 'c']"
   ]
  },
  {
   "cell_type": "code",
   "execution_count": null,
   "id": "8b5bfee0-cf3e-4efe-9fbb-7ec263f3efff",
   "metadata": {},
   "outputs": [],
   "source": [
    "d = {'x': 10, \"y\": 20, \"z\": 10}\n",
    "largest = 0\n",
    "max_key = None\n",
    "\n",
    "for k, value in d.items():\n",
    "    if value > largest:\n",
    "        largest = value\n",
    "        max_key = k\n",
    "print(max_key, largest)\n"
   ]
  }
 ],
 "metadata": {
  "kernelspec": {
   "display_name": "Python 3 (ipykernel)",
   "language": "python",
   "name": "python3"
  },
  "language_info": {
   "codemirror_mode": {
    "name": "ipython",
    "version": 3
   },
   "file_extension": ".py",
   "mimetype": "text/x-python",
   "name": "python",
   "nbconvert_exporter": "python",
   "pygments_lexer": "ipython3",
   "version": "3.12.7"
  }
 },
 "nbformat": 4,
 "nbformat_minor": 5
}
