{
 "cells": [
  {
   "cell_type": "markdown",
   "id": "9d5dd31c-e28f-4f21-bb8b-28e07e9e73b9",
   "metadata": {},
   "source": [
    "# Change case"
   ]
  },
  {
   "cell_type": "code",
   "execution_count": 1,
   "id": "9ac4440f-63c5-4de5-a2fc-b957050d0857",
   "metadata": {},
   "outputs": [
    {
     "name": "stdout",
     "output_type": "stream",
     "text": [
      "SRIram\n"
     ]
    }
   ],
   "source": [
    "def change_char(s):\n",
    "    if len(s) == 0 :\n",
    "        return s\n",
    "    if len(s) == 1:\n",
    "        if s.isupper():\n",
    "            return s.lower()\n",
    "        else:\n",
    "            return s.upper()\n",
    "    else:\n",
    "        if s[0].isupper():\n",
    "            return s[0].lower() + change_char(s[1:])\n",
    "        else:\n",
    "            return s[0].upper() + change_char(s[1:])\n",
    "        \n",
    "print(change_char(\"sriRAM\"))  "
   ]
  },
  {
   "cell_type": "code",
   "execution_count": 2,
   "id": "f2e8bdf9-44a1-4e2b-9aa0-205c534d79a0",
   "metadata": {},
   "outputs": [
    {
     "name": "stdout",
     "output_type": "stream",
     "text": [
      "SRIram\n"
     ]
    }
   ],
   "source": [
    "def change(s,result = None):\n",
    "    if result is None :\n",
    "        result = []\n",
    "    if len(s) == 0 :\n",
    "        return result\n",
    "    if len(s) == 1:\n",
    "        if s.isupper() :\n",
    "            result.append(s.lower())\n",
    "        else:\n",
    "            result.append(s.upper())\n",
    "    else:\n",
    "        if  s[0].isupper() :\n",
    "            result.append(s[0].lower())\n",
    "        else :\n",
    "            result.append(s[0].upper())\n",
    "    return change(s[1:],result)\n",
    "print(\"\".join(change(\"sriRAM\")))"
   ]
  },
  {
   "cell_type": "code",
   "execution_count": 3,
   "id": "3d61be8b-f1a9-4de4-b132-2b8f797b7070",
   "metadata": {},
   "outputs": [
    {
     "data": {
      "text/plain": [
       "'SRIram'"
      ]
     },
     "execution_count": 3,
     "metadata": {},
     "output_type": "execute_result"
    }
   ],
   "source": [
    "def change(s,result = None):\n",
    "    if result is None :\n",
    "        result = \"\"\n",
    "    if len(s) == 0 :\n",
    "        return result\n",
    "    if len(s) == 1:\n",
    "        if s.isupper() :\n",
    "            result = result + s.lower()\n",
    "        else:\n",
    "            result = result + s.upper()\n",
    "    else:\n",
    "        if  s[0].isupper() :\n",
    "            result = result + s[0].lower()\n",
    "        else :\n",
    "            result = result + s[0].upper()\n",
    "    return change(s[1:],result)\n",
    "change(\"sriRAM\")"
   ]
  },
  {
   "cell_type": "markdown",
   "id": "7ef919bf-ad0c-4698-8dbc-6aa863b68b12",
   "metadata": {},
   "source": [
    "# vowels,consonents,spaces,Digits,Symbols"
   ]
  },
  {
   "cell_type": "code",
   "execution_count": null,
   "id": "ab59816d-f9c3-436d-aa98-4f55450d16ff",
   "metadata": {},
   "outputs": [],
   "source": [
    "def count_chars(text):\n",
    "    vowels = \"AEIOUaeiou\"\n",
    "    v, c, s, d, sym = 0, 0, 0, 0, 0\n",
    "    if not text:\n",
    "        return \"Empty String\"\n",
    "    for ch in text:\n",
    "        if ch in vowels:\n",
    "            v += 1\n",
    "        elif ch.isalpha():\n",
    "            c += 1\n",
    "        elif ch == \" \":\n",
    "            s += 1\n",
    "        elif ch.isdigit():\n",
    "            d += 1\n",
    "        else:\n",
    "            sym += 1\n",
    "    return v, c, s, d, sym\n",
    "\n",
    "text = \"\"\n",
    "result = count_chars(text)\n",
    "\n",
    "if result == \"Empty String\":\n",
    "    print(\"The input string is empty.\")\n",
    "else:\n",
    "    vowels, consonents, spaces, digit, symbol = result\n",
    "    print(f\"Vowels : {vowels}, Consonents : {consonents}, Spaces : {spaces}, Digit : {digit}, Symbol : {symbol}\")\n"
   ]
  },
  {
   "cell_type": "code",
   "execution_count": null,
   "id": "9f47b42e-9324-4957-bc9b-b794f2c53dfb",
   "metadata": {},
   "outputs": [],
   "source": [
    "def digit(text):\n",
    "    digit = 0\n",
    "    consonents = 0\n",
    "    for num in text :\n",
    "        try:\n",
    "            if int(num)%2==0 or int(num)%2 !=0 :\n",
    "                digit = digit + 1\n",
    "        except:\n",
    "            num = str(num)\n",
    "            consonents = consonents + 1\n",
    "    return digit,consonents   \n",
    "text = \"0467sriram\"\n",
    "digit,consonents =digit(text)\n",
    "print(f\"Digit :{digit},Consonent : {consonents}\")"
   ]
  },
  {
   "cell_type": "markdown",
   "id": "43faca86-6251-4e9a-970b-a53ca0f95981",
   "metadata": {},
   "source": [
    "# Remove space beginning and end"
   ]
  },
  {
   "cell_type": "code",
   "execution_count": 2,
   "id": "ee78fe7c-5a22-4551-9b4a-80c5f963b176",
   "metadata": {},
   "outputs": [
    {
     "name": "stdout",
     "output_type": "stream",
     "text": [
      "New_text :  27\n"
     ]
    }
   ],
   "source": [
    "text =\" Python is powerful and fast \" # it only works if there are one space at the start and end\n",
    "if text[0] == \" \" and text[-1] == \" \":\n",
    "        text = \"\" +  text[1:-1] + \"\"\n",
    "print(\"New_text : \",len(text))"
   ]
  },
  {
   "cell_type": "code",
   "execution_count": 18,
   "id": "e41b9e22-7fa7-4a78-bf7e-5668ca0c7d77",
   "metadata": {},
   "outputs": [
    {
     "data": {
      "text/plain": [
       "('Python is powerful and fast', 27)"
      ]
     },
     "execution_count": 18,
     "metadata": {},
     "output_type": "execute_result"
    }
   ],
   "source": [
    "def space_remove_start_end(text):  # can work one or more than one space at the start and end and remove spaces \n",
    "    if text[0] != \" \" and text[-1] != \" \" :\n",
    "        return text,len(text)\n",
    "    else :\n",
    "        if text[0] == \" \":\n",
    "            text = \"\" + text[1:] # or  text = text[1:]\n",
    "        if text[-1] == \" \":\n",
    "            text = text[0:-1]+ \"\" # or text = text[0:-1]\n",
    "    return space_remove_start_end(text)\n",
    "space_remove_start_end(\"Python is powerful and fast\")"
   ]
  },
  {
   "cell_type": "code",
   "execution_count": null,
   "id": "e8cce3d3-5c79-4595-b150-8a9860cdddbc",
   "metadata": {},
   "outputs": [],
   "source": []
  }
 ],
 "metadata": {
  "kernelspec": {
   "display_name": "Python 3 (ipykernel)",
   "language": "python",
   "name": "python3"
  },
  "language_info": {
   "codemirror_mode": {
    "name": "ipython",
    "version": 3
   },
   "file_extension": ".py",
   "mimetype": "text/x-python",
   "name": "python",
   "nbconvert_exporter": "python",
   "pygments_lexer": "ipython3",
   "version": "3.12.7"
  }
 },
 "nbformat": 4,
 "nbformat_minor": 5
}
