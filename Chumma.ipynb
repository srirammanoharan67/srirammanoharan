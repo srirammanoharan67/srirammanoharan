{
 "cells": [
  {
   "cell_type": "code",
   "execution_count": 23,
   "id": "a85bec6b-62eb-4c34-871a-e7c63f2e24e9",
   "metadata": {},
   "outputs": [
    {
     "name": "stdout",
     "output_type": "stream",
     "text": [
      "[3, 6, 9]\n"
     ]
    }
   ],
   "source": [
    "def multiple_of_3(num):\n",
    "    if num%3 == 0 :\n",
    "        return True\n",
    "numbers = [1,2,3,4,5,6,7,8,9,10]\n",
    "result  =list(filter(multiple_of_3,numbers))\n",
    "print(result)"
   ]
  },
  {
   "cell_type": "code",
   "execution_count": 21,
   "id": "7e5e2454-fa31-4244-abca-7ad49363631b",
   "metadata": {},
   "outputs": [
    {
     "name": "stdout",
     "output_type": "stream",
     "text": [
      "[False, False, True, False, False, True, False, False, True, False]\n"
     ]
    }
   ],
   "source": [
    "def multiple_of_3(num):\n",
    "    if num%3 == 0 :\n",
    "        return True\n",
    "    else:\n",
    "        return False\n",
    "\n",
    "numbers = [1,2,3,4,5,6,7,8,9,10]\n",
    "result = list(map(multiple_of_3,numbers))\n",
    "print(result)"
   ]
  },
  {
   "cell_type": "code",
   "execution_count": 17,
   "id": "3a5d346d-8085-4212-beb9-8a8bf6794a30",
   "metadata": {},
   "outputs": [
    {
     "name": "stdout",
     "output_type": "stream",
     "text": [
      "3\n",
      "6\n",
      "9\n"
     ]
    }
   ],
   "source": [
    "for i in result :\n",
    "    if i != None :\n",
    "        print(i)"
   ]
  },
  {
   "cell_type": "code",
   "execution_count": null,
   "id": "097f9f35-e8a8-4390-a3a8-7c84df2f524e",
   "metadata": {},
   "outputs": [],
   "source": []
  }
 ],
 "metadata": {
  "kernelspec": {
   "display_name": "Python 3 (ipykernel)",
   "language": "python",
   "name": "python3"
  },
  "language_info": {
   "codemirror_mode": {
    "name": "ipython",
    "version": 3
   },
   "file_extension": ".py",
   "mimetype": "text/x-python",
   "name": "python",
   "nbconvert_exporter": "python",
   "pygments_lexer": "ipython3",
   "version": "3.12.7"
  }
 },
 "nbformat": 4,
 "nbformat_minor": 5
}
